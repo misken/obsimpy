{
 "cells": [
  {
   "cell_type": "code",
   "execution_count": null,
   "id": "fad77f18-1b83-4f6c-bda9-e0cad90270c0",
   "metadata": {},
   "outputs": [],
   "source": []
  },
  {
   "cell_type": "code",
   "execution_count": 62,
   "id": "740d85e0-4441-4969-bfc8-d2849d1684be",
   "metadata": {
    "tags": []
   },
   "outputs": [],
   "source": [
    "import numpy as np\n",
    "import pandas as pd\n",
    "from scipy.stats import erlang, expon\n",
    "import matplotlib.pyplot as plt\n",
    "import math\n",
    "import operator\n",
    "\n",
    "import obnetwork2"
   ]
  },
  {
   "cell_type": "code",
   "execution_count": 3,
   "id": "05fd5600-5a44-46b4-90f4-0c1326de4fd1",
   "metadata": {},
   "outputs": [],
   "source": [
    "%matplotlib inline"
   ]
  },
  {
   "cell_type": "code",
   "execution_count": 15,
   "id": "7f129a07-ae19-4177-9305-fd9bc069748d",
   "metadata": {},
   "outputs": [
    {
     "name": "stdout",
     "output_type": "stream",
     "text": [
      "<class 'pandas.core.frame.DataFrame'>\n",
      "Int64Index: 3750 entries, 0 to 1442\n",
      "Data columns (total 78 columns):\n",
      " #   Column                  Non-Null Count  Dtype  \n",
      "---  ------                  --------------  -----  \n",
      " 0   scenario                3750 non-null   int64  \n",
      " 1   rep                     3750 non-null   int64  \n",
      " 2   timestamp               3750 non-null   object \n",
      " 3   num_days                3750 non-null   float64\n",
      " 4   num_visits_obs          3750 non-null   float64\n",
      " 5   num_visits_ldr          3750 non-null   float64\n",
      " 6   num_visits_pp           3750 non-null   float64\n",
      " 7   num_visits_csect        3750 non-null   float64\n",
      " 8   planned_los_mean_obs    3750 non-null   float64\n",
      " 9   actual_los_mean_obs     3750 non-null   float64\n",
      " 10  planned_los_sd_obs      3750 non-null   float64\n",
      " 11  actual_los_sd_obs       3750 non-null   float64\n",
      " 12  planned_los_cv2_obs     3750 non-null   float64\n",
      " 13  actual_los_cv2_obs      3750 non-null   float64\n",
      " 14  planned_los_skew_obs    3750 non-null   float64\n",
      " 15  actual_los_skew_obs     3750 non-null   float64\n",
      " 16  planned_los_kurt_obs    3750 non-null   float64\n",
      " 17  actual_los_kurt_obs     3750 non-null   float64\n",
      " 18  planned_los_mean_ldr    3750 non-null   float64\n",
      " 19  actual_los_mean_ldr     3750 non-null   float64\n",
      " 20  planned_los_sd_ldr      3750 non-null   float64\n",
      " 21  actual_los_sd_ldr       3750 non-null   float64\n",
      " 22  planned_los_cv2_ldr     3750 non-null   float64\n",
      " 23  actual_los_cv2_ldr      3750 non-null   float64\n",
      " 24  planned_los_skew_ldr    3750 non-null   float64\n",
      " 25  actual_los_skew_ldr     3750 non-null   float64\n",
      " 26  planned_los_kurt_ldr    3750 non-null   float64\n",
      " 27  actual_los_kurt_ldr     3750 non-null   float64\n",
      " 28  planned_los_mean_pp     3750 non-null   float64\n",
      " 29  actual_los_mean_pp      3750 non-null   float64\n",
      " 30  planned_los_sd_pp       3750 non-null   float64\n",
      " 31  actual_los_sd_pp        3750 non-null   float64\n",
      " 32  planned_los_cv2_pp      3750 non-null   float64\n",
      " 33  actual_los_cv2_pp       3750 non-null   float64\n",
      " 34  planned_los_skew_pp     3750 non-null   float64\n",
      " 35  actual_los_skew_pp      3750 non-null   float64\n",
      " 36  planned_los_kurt_pp     3750 non-null   float64\n",
      " 37  actual_los_kurt_pp      3750 non-null   float64\n",
      " 38  planned_los_mean_csect  3750 non-null   float64\n",
      " 39  actual_los_mean_csect   3750 non-null   float64\n",
      " 40  planned_los_sd_csect    3750 non-null   float64\n",
      " 41  actual_los_sd_csect     3750 non-null   float64\n",
      " 42  planned_los_cv2_csect   3750 non-null   float64\n",
      " 43  actual_los_cv2_csect    3750 non-null   float64\n",
      " 44  planned_los_skew_csect  3750 non-null   float64\n",
      " 45  actual_los_skew_csect   3750 non-null   float64\n",
      " 46  planned_los_kurt_csect  3750 non-null   float64\n",
      " 47  actual_los_kurt_csect   3750 non-null   float64\n",
      " 48  iatime_mean_obs         3750 non-null   float64\n",
      " 49  iatime_sd_obs           3750 non-null   float64\n",
      " 50  iatime_skew_obs         3750 non-null   float64\n",
      " 51  iatime_kurt_obs         3750 non-null   float64\n",
      " 52  iatime_mean_ldr         3750 non-null   float64\n",
      " 53  iatime_sd_ldr           3750 non-null   float64\n",
      " 54  iatime_skew_ldr         3750 non-null   float64\n",
      " 55  iatime_kurt_ldr         3750 non-null   float64\n",
      " 56  iatime_mean_csection    3750 non-null   float64\n",
      " 57  iatime_sd_csection      3750 non-null   float64\n",
      " 58  iatime_skew_csection    3750 non-null   float64\n",
      " 59  iatime_kurt_csection    3750 non-null   float64\n",
      " 60  iatime_mean_pp          3750 non-null   float64\n",
      " 61  iatime_sd_pp            3750 non-null   float64\n",
      " 62  iatime_skew_pp          3750 non-null   float64\n",
      " 63  iatime_kurt_pp          3750 non-null   float64\n",
      " 64  occ_mean_obs            3750 non-null   float64\n",
      " 65  occ_mean_ldr            3750 non-null   float64\n",
      " 66  occ_mean_csect          3750 non-null   float64\n",
      " 67  occ_mean_pp             3750 non-null   float64\n",
      " 68  occ_p95_obs             3750 non-null   float64\n",
      " 69  occ_p95_ldr             3750 non-null   float64\n",
      " 70  occ_p95_csect           3750 non-null   float64\n",
      " 71  occ_p95_pp              3750 non-null   float64\n",
      " 72  pct_waitq_ldr           3750 non-null   float64\n",
      " 73  waitq_ldr_mean          3750 non-null   float64\n",
      " 74  waitq_ldr_p95           3750 non-null   float64\n",
      " 75  pct_blocked_by_pp       3750 non-null   float64\n",
      " 76  blocked_by_pp_mean      3750 non-null   float64\n",
      " 77  blocked_by_pp_p95       3750 non-null   float64\n",
      "dtypes: float64(75), int64(2), object(1)\n",
      "memory usage: 2.3+ MB\n"
     ]
    }
   ],
   "source": [
    "output_stats_summary_df = pd.read_csv('./output/output_stats_summary.csv').sort_values(by=['scenario', 'rep'])\n",
    "output_stats_summary_df.info()"
   ]
  },
  {
   "cell_type": "code",
   "execution_count": 18,
   "id": "15c65687-6351-43b1-9f02-8fdbbf617c64",
   "metadata": {},
   "outputs": [],
   "source": [
    "output_stats_summary_agg_df = output_stats_summary_df.groupby(['scenario']).agg(\n",
    "    num_visits_obs_mean=pd.NamedAgg(column='num_visits_obs', aggfunc='mean'),\n",
    "    num_visits_ldr_mean=pd.NamedAgg(column='num_visits_ldr', aggfunc='mean'),\n",
    "    num_visits_csect_mean=pd.NamedAgg(column='num_visits_csect', aggfunc='mean'),\n",
    "    num_visits_pp_mean=pd.NamedAgg(column='num_visits_pp', aggfunc='mean'),\n",
    "\n",
    "    planned_los_mean_mean_obs=pd.NamedAgg(column='planned_los_mean_obs', aggfunc='mean'),\n",
    "    planned_los_mean_mean_ldr=pd.NamedAgg(column='planned_los_mean_ldr', aggfunc='mean'),\n",
    "    planned_los_mean_mean_csect=pd.NamedAgg(column='planned_los_mean_csect', aggfunc='mean'),\n",
    "    planned_los_mean_mean_pp=pd.NamedAgg(column='planned_los_mean_pp', aggfunc='mean'),\n",
    "    \n",
    "    actual_los_mean_mean_obs=pd.NamedAgg(column='actual_los_mean_obs', aggfunc='mean'),\n",
    "    actual_los_mean_mean_ldr=pd.NamedAgg(column='actual_los_mean_ldr', aggfunc='mean'),\n",
    "    actual_los_mean_mean_csect=pd.NamedAgg(column='actual_los_mean_csect', aggfunc='mean'),\n",
    "    actual_los_mean_mean_pp=pd.NamedAgg(column='actual_los_mean_pp', aggfunc='mean'),\n",
    "    \n",
    "    planned_los_mean_cv2_obs=pd.NamedAgg(column='planned_los_cv2_obs', aggfunc='mean'),\n",
    "    planned_los_mean_cv2_ldr=pd.NamedAgg(column='planned_los_cv2_ldr', aggfunc='mean'),\n",
    "    planned_los_mean_cv2_csect=pd.NamedAgg(column='planned_los_cv2_csect', aggfunc='mean'),\n",
    "    planned_los_mean_cv2_pp=pd.NamedAgg(column='planned_los_cv2_pp', aggfunc='mean'),\n",
    "    \n",
    "    actual_los_mean_cv2_obs=pd.NamedAgg(column='actual_los_cv2_obs', aggfunc='mean'),\n",
    "    actual_los_mean_cv2_ldr=pd.NamedAgg(column='actual_los_cv2_ldr', aggfunc='mean'),\n",
    "    actual_los_mean_cv2_csect=pd.NamedAgg(column='actual_los_cv2_csect', aggfunc='mean'),\n",
    "    actual_los_mean_cv2_pp=pd.NamedAgg(column='actual_los_cv2_pp', aggfunc='mean'),\n",
    "    \n",
    "    occ_mean_mean_obs=pd.NamedAgg(column='occ_mean_obs', aggfunc='mean'),\n",
    "    occ_mean_mean_ldr=pd.NamedAgg(column='occ_mean_ldr', aggfunc='mean'),\n",
    "    occ_mean_mean_csect=pd.NamedAgg(column='occ_mean_csect', aggfunc='mean'),\n",
    "    occ_mean_mean_pp=pd.NamedAgg(column='occ_mean_pp', aggfunc='mean'),\n",
    "\n",
    "    occ_mean_p95_obs=pd.NamedAgg(column='occ_p95_obs', aggfunc='mean'),\n",
    "    occ_mean_p95_ldr=pd.NamedAgg(column='occ_p95_ldr', aggfunc='mean'),\n",
    "    occ_mean_p95_csect=pd.NamedAgg(column='occ_p95_csect', aggfunc='mean'),\n",
    "    occ_mean_p95_pp=pd.NamedAgg(column='occ_p95_pp', aggfunc='mean'),\n",
    "    \n",
    "    mean_pct_waitq_ldr=pd.NamedAgg(column='pct_waitq_ldr', aggfunc='mean'),\n",
    "    mean_waitq_ldr_mean=pd.NamedAgg(column='waitq_ldr_mean', aggfunc='mean'),\n",
    "    mean_waitq_ldr_p95=pd.NamedAgg(column='waitq_ldr_p95', aggfunc='mean'), \n",
    "\n",
    "    mean_pct_blocked_by_pp=pd.NamedAgg(column='pct_waitq_ldr', aggfunc='mean'),\n",
    "    mean_blocked_by_pp_mean=pd.NamedAgg(column='blocked_by_pp_mean', aggfunc='mean'),\n",
    "    mean_blocked_by_pp_p95=pd.NamedAgg(column='blocked_by_pp_p95', aggfunc='mean'),\n",
    ")"
   ]
  },
  {
   "cell_type": "code",
   "execution_count": 23,
   "id": "629f89ee-184e-49a6-bfa4-e47bc799b87f",
   "metadata": {},
   "outputs": [],
   "source": [
    "output_stats_summary_agg_df.to_csv('./output/output_stats_summary_agg.csv', index=True)"
   ]
  },
  {
   "cell_type": "markdown",
   "id": "fc0d50f7-8720-4add-8a1a-fe8d0b1c76a6",
   "metadata": {},
   "source": [
    "Now compute queueing approximations"
   ]
  },
  {
   "cell_type": "code",
   "execution_count": 27,
   "id": "b1dc29f6-10d2-4a16-8335-032bf218c53b",
   "metadata": {},
   "outputs": [],
   "source": [
    "scenario_summary_stats_df = pd.read_csv('./output/output_stats_summary_agg.csv')\n",
    "input_params_df = pd.read_csv('./inputs/exp10_tandem05_metainputs.csv')\n",
    "#train_df.set_index('scenario', drop=False, inplace=True)"
   ]
  },
  {
   "cell_type": "code",
   "execution_count": 26,
   "id": "0c7aae25-69ab-405e-9fbe-c1623bd90bef",
   "metadata": {
    "collapsed": true,
    "jupyter": {
     "outputs_hidden": true
    },
    "tags": []
   },
   "outputs": [
    {
     "name": "stdout",
     "output_type": "stream",
     "text": [
      "<class 'pandas.core.frame.DataFrame'>\n",
      "RangeIndex: 150 entries, 0 to 149\n",
      "Data columns (total 35 columns):\n",
      " #   Column                       Non-Null Count  Dtype  \n",
      "---  ------                       --------------  -----  \n",
      " 0   scenario                     150 non-null    int64  \n",
      " 1   num_visits_obs_mean          150 non-null    float64\n",
      " 2   num_visits_ldr_mean          150 non-null    float64\n",
      " 3   num_visits_csect_mean        150 non-null    float64\n",
      " 4   num_visits_pp_mean           150 non-null    float64\n",
      " 5   planned_los_mean_mean_obs    150 non-null    float64\n",
      " 6   planned_los_mean_mean_ldr    150 non-null    float64\n",
      " 7   planned_los_mean_mean_csect  150 non-null    float64\n",
      " 8   planned_los_mean_mean_pp     150 non-null    float64\n",
      " 9   actual_los_mean_mean_obs     150 non-null    float64\n",
      " 10  actual_los_mean_mean_ldr     150 non-null    float64\n",
      " 11  actual_los_mean_mean_csect   150 non-null    float64\n",
      " 12  actual_los_mean_mean_pp      150 non-null    float64\n",
      " 13  planned_los_mean_cv2_obs     150 non-null    float64\n",
      " 14  planned_los_mean_cv2_ldr     150 non-null    float64\n",
      " 15  planned_los_mean_cv2_csect   150 non-null    float64\n",
      " 16  planned_los_mean_cv2_pp      150 non-null    float64\n",
      " 17  actual_los_mean_cv2_obs      150 non-null    float64\n",
      " 18  actual_los_mean_cv2_ldr      150 non-null    float64\n",
      " 19  actual_los_mean_cv2_csect    150 non-null    float64\n",
      " 20  actual_los_mean_cv2_pp       150 non-null    float64\n",
      " 21  occ_mean_mean_obs            150 non-null    float64\n",
      " 22  occ_mean_mean_ldr            150 non-null    float64\n",
      " 23  occ_mean_mean_csect          150 non-null    float64\n",
      " 24  occ_mean_mean_pp             150 non-null    float64\n",
      " 25  occ_mean_p95_obs             150 non-null    float64\n",
      " 26  occ_mean_p95_ldr             150 non-null    float64\n",
      " 27  occ_mean_p95_csect           150 non-null    float64\n",
      " 28  occ_mean_p95_pp              150 non-null    float64\n",
      " 29  mean_pct_waitq_ldr           150 non-null    float64\n",
      " 30  mean_waitq_ldr_mean          150 non-null    float64\n",
      " 31  mean_waitq_ldr_p95           150 non-null    float64\n",
      " 32  mean_pct_blocked_by_pp       150 non-null    float64\n",
      " 33  mean_blocked_by_pp_mean      150 non-null    float64\n",
      " 34  mean_blocked_by_pp_p95       150 non-null    float64\n",
      "dtypes: float64(34), int64(1)\n",
      "memory usage: 41.1 KB\n"
     ]
    }
   ],
   "source": [
    "scenario_summary_stats_df.info()"
   ]
  },
  {
   "cell_type": "code",
   "execution_count": 28,
   "id": "2db39827-ba0e-4a5c-9704-796f0480454a",
   "metadata": {
    "tags": []
   },
   "outputs": [
    {
     "name": "stdout",
     "output_type": "stream",
     "text": [
      "<class 'pandas.core.frame.DataFrame'>\n",
      "RangeIndex: 150 entries, 0 to 149\n",
      "Data columns (total 40 columns):\n",
      " #   Column                   Non-Null Count  Dtype  \n",
      "---  ------                   --------------  -----  \n",
      " 0   scenario                 150 non-null    int64  \n",
      " 1   arrival_rate             150 non-null    float64\n",
      " 2   mean_los_obs             150 non-null    float64\n",
      " 3   num_erlang_stages_obs    150 non-null    int64  \n",
      " 4   mean_los_ldr             150 non-null    int64  \n",
      " 5   num_erlang_stages_ldr    150 non-null    int64  \n",
      " 6   mean_los_csect           150 non-null    int64  \n",
      " 7   num_erlang_stages_csect  150 non-null    int64  \n",
      " 8   mean_los_pp_noc          150 non-null    int64  \n",
      " 9   mean_los_pp_c            150 non-null    int64  \n",
      " 10  num_erlang_stages_pp     150 non-null    int64  \n",
      " 11  c_sect_prob              150 non-null    float64\n",
      " 12  tot_c_rate               150 non-null    float64\n",
      " 13  acc_tar_obs              150 non-null    float64\n",
      " 14  acc_tar_ldr              150 non-null    float64\n",
      " 15  acc_tar_pp               150 non-null    float64\n",
      " 16  daily_arr_rate           150 non-null    float64\n",
      " 17  alos_obs                 150 non-null    float64\n",
      " 18  alos_ldr_1               150 non-null    float64\n",
      " 19  alos_ldr_2               150 non-null    float64\n",
      " 20  alos_pp_noc              150 non-null    int64  \n",
      " 21  alos_pp_c                150 non-null    int64  \n",
      " 22  load_obs                 150 non-null    float64\n",
      " 23  load_ldr                 150 non-null    float64\n",
      " 24  load_pp                  150 non-null    float64\n",
      " 25  cap_obs                  150 non-null    int64  \n",
      " 26  cap_ldr                  150 non-null    int64  \n",
      " 27  cap_pp                   150 non-null    int64  \n",
      " 28  lam_obs                  150 non-null    float64\n",
      " 29  lam_ldr                  150 non-null    float64\n",
      " 30  lam_pp                   150 non-null    float64\n",
      " 31  alos_obs.1               150 non-null    float64\n",
      " 32  alos_ldr                 150 non-null    float64\n",
      " 33  alos_pp                  150 non-null    float64\n",
      " 34  rho_obs                  150 non-null    float64\n",
      " 35  rho_ldr                  150 non-null    float64\n",
      " 36  rho_pp                   150 non-null    float64\n",
      " 37  cv2_obs                  150 non-null    int64  \n",
      " 38  cv2_ldr                  150 non-null    float64\n",
      " 39  cv2_pp                   150 non-null    float64\n",
      "dtypes: float64(25), int64(15)\n",
      "memory usage: 47.0 KB\n"
     ]
    }
   ],
   "source": [
    "input_params_df.info()"
   ]
  },
  {
   "cell_type": "code",
   "execution_count": 35,
   "id": "62054ee9-4882-4a05-80ab-b5ec188dbb74",
   "metadata": {},
   "outputs": [
    {
     "data": {
      "text/html": [
       "<div>\n",
       "<style scoped>\n",
       "    .dataframe tbody tr th:only-of-type {\n",
       "        vertical-align: middle;\n",
       "    }\n",
       "\n",
       "    .dataframe tbody tr th {\n",
       "        vertical-align: top;\n",
       "    }\n",
       "\n",
       "    .dataframe thead th {\n",
       "        text-align: right;\n",
       "    }\n",
       "</style>\n",
       "<table border=\"1\" class=\"dataframe\">\n",
       "  <thead>\n",
       "    <tr style=\"text-align: right;\">\n",
       "      <th></th>\n",
       "      <th>num_erlang_stages_ldr</th>\n",
       "      <th>mean_los_csect</th>\n",
       "      <th>num_erlang_stages_csect</th>\n",
       "      <th>mean_los_pp_noc</th>\n",
       "      <th>mean_los_pp_c</th>\n",
       "      <th>num_erlang_stages_pp</th>\n",
       "      <th>c_sect_prob</th>\n",
       "      <th>tot_c_rate</th>\n",
       "      <th>acc_tar_obs</th>\n",
       "      <th>acc_tar_ldr</th>\n",
       "    </tr>\n",
       "  </thead>\n",
       "  <tbody>\n",
       "    <tr>\n",
       "      <th>0</th>\n",
       "      <td>2</td>\n",
       "      <td>1</td>\n",
       "      <td>4</td>\n",
       "      <td>48</td>\n",
       "      <td>72</td>\n",
       "      <td>8</td>\n",
       "      <td>0.2</td>\n",
       "      <td>0.2</td>\n",
       "      <td>0.99995</td>\n",
       "      <td>0.95</td>\n",
       "    </tr>\n",
       "    <tr>\n",
       "      <th>1</th>\n",
       "      <td>2</td>\n",
       "      <td>1</td>\n",
       "      <td>4</td>\n",
       "      <td>48</td>\n",
       "      <td>72</td>\n",
       "      <td>8</td>\n",
       "      <td>0.2</td>\n",
       "      <td>0.2</td>\n",
       "      <td>0.99995</td>\n",
       "      <td>0.95</td>\n",
       "    </tr>\n",
       "    <tr>\n",
       "      <th>2</th>\n",
       "      <td>2</td>\n",
       "      <td>1</td>\n",
       "      <td>4</td>\n",
       "      <td>48</td>\n",
       "      <td>72</td>\n",
       "      <td>8</td>\n",
       "      <td>0.2</td>\n",
       "      <td>0.2</td>\n",
       "      <td>0.99995</td>\n",
       "      <td>0.95</td>\n",
       "    </tr>\n",
       "    <tr>\n",
       "      <th>3</th>\n",
       "      <td>2</td>\n",
       "      <td>1</td>\n",
       "      <td>4</td>\n",
       "      <td>48</td>\n",
       "      <td>72</td>\n",
       "      <td>8</td>\n",
       "      <td>0.2</td>\n",
       "      <td>0.2</td>\n",
       "      <td>0.99995</td>\n",
       "      <td>0.85</td>\n",
       "    </tr>\n",
       "    <tr>\n",
       "      <th>4</th>\n",
       "      <td>2</td>\n",
       "      <td>1</td>\n",
       "      <td>4</td>\n",
       "      <td>48</td>\n",
       "      <td>72</td>\n",
       "      <td>8</td>\n",
       "      <td>0.2</td>\n",
       "      <td>0.2</td>\n",
       "      <td>0.99995</td>\n",
       "      <td>0.85</td>\n",
       "    </tr>\n",
       "  </tbody>\n",
       "</table>\n",
       "</div>"
      ],
      "text/plain": [
       "   num_erlang_stages_ldr  mean_los_csect  num_erlang_stages_csect  \\\n",
       "0                      2               1                        4   \n",
       "1                      2               1                        4   \n",
       "2                      2               1                        4   \n",
       "3                      2               1                        4   \n",
       "4                      2               1                        4   \n",
       "\n",
       "   mean_los_pp_noc  mean_los_pp_c  num_erlang_stages_pp  c_sect_prob  \\\n",
       "0               48             72                     8          0.2   \n",
       "1               48             72                     8          0.2   \n",
       "2               48             72                     8          0.2   \n",
       "3               48             72                     8          0.2   \n",
       "4               48             72                     8          0.2   \n",
       "\n",
       "   tot_c_rate  acc_tar_obs  acc_tar_ldr  \n",
       "0         0.2      0.99995         0.95  \n",
       "1         0.2      0.99995         0.95  \n",
       "2         0.2      0.99995         0.95  \n",
       "3         0.2      0.99995         0.85  \n",
       "4         0.2      0.99995         0.85  "
      ]
     },
     "execution_count": 35,
     "metadata": {},
     "output_type": "execute_result"
    }
   ],
   "source": [
    "input_params_df.iloc[:, 5:15].head()"
   ]
  },
  {
   "cell_type": "code",
   "execution_count": 29,
   "id": "247c8d37-9f47-4614-82b7-d5ced839684b",
   "metadata": {},
   "outputs": [],
   "source": [
    "obsim_mm_means_df = input_params_df.merge(scenario_summary_stats_df, on='scenario')"
   ]
  },
  {
   "cell_type": "code",
   "execution_count": 30,
   "id": "3a00c26a-1891-4715-b8ad-8d4221d612db",
   "metadata": {},
   "outputs": [
    {
     "name": "stdout",
     "output_type": "stream",
     "text": [
      "<class 'pandas.core.frame.DataFrame'>\n",
      "Int64Index: 150 entries, 0 to 149\n",
      "Data columns (total 74 columns):\n",
      " #   Column                       Non-Null Count  Dtype  \n",
      "---  ------                       --------------  -----  \n",
      " 0   scenario                     150 non-null    int64  \n",
      " 1   arrival_rate                 150 non-null    float64\n",
      " 2   mean_los_obs                 150 non-null    float64\n",
      " 3   num_erlang_stages_obs        150 non-null    int64  \n",
      " 4   mean_los_ldr                 150 non-null    int64  \n",
      " 5   num_erlang_stages_ldr        150 non-null    int64  \n",
      " 6   mean_los_csect               150 non-null    int64  \n",
      " 7   num_erlang_stages_csect      150 non-null    int64  \n",
      " 8   mean_los_pp_noc              150 non-null    int64  \n",
      " 9   mean_los_pp_c                150 non-null    int64  \n",
      " 10  num_erlang_stages_pp         150 non-null    int64  \n",
      " 11  c_sect_prob                  150 non-null    float64\n",
      " 12  tot_c_rate                   150 non-null    float64\n",
      " 13  acc_tar_obs                  150 non-null    float64\n",
      " 14  acc_tar_ldr                  150 non-null    float64\n",
      " 15  acc_tar_pp                   150 non-null    float64\n",
      " 16  daily_arr_rate               150 non-null    float64\n",
      " 17  alos_obs                     150 non-null    float64\n",
      " 18  alos_ldr_1                   150 non-null    float64\n",
      " 19  alos_ldr_2                   150 non-null    float64\n",
      " 20  alos_pp_noc                  150 non-null    int64  \n",
      " 21  alos_pp_c                    150 non-null    int64  \n",
      " 22  load_obs                     150 non-null    float64\n",
      " 23  load_ldr                     150 non-null    float64\n",
      " 24  load_pp                      150 non-null    float64\n",
      " 25  cap_obs                      150 non-null    int64  \n",
      " 26  cap_ldr                      150 non-null    int64  \n",
      " 27  cap_pp                       150 non-null    int64  \n",
      " 28  lam_obs                      150 non-null    float64\n",
      " 29  lam_ldr                      150 non-null    float64\n",
      " 30  lam_pp                       150 non-null    float64\n",
      " 31  alos_obs.1                   150 non-null    float64\n",
      " 32  alos_ldr                     150 non-null    float64\n",
      " 33  alos_pp                      150 non-null    float64\n",
      " 34  rho_obs                      150 non-null    float64\n",
      " 35  rho_ldr                      150 non-null    float64\n",
      " 36  rho_pp                       150 non-null    float64\n",
      " 37  cv2_obs                      150 non-null    int64  \n",
      " 38  cv2_ldr                      150 non-null    float64\n",
      " 39  cv2_pp                       150 non-null    float64\n",
      " 40  num_visits_obs_mean          150 non-null    float64\n",
      " 41  num_visits_ldr_mean          150 non-null    float64\n",
      " 42  num_visits_csect_mean        150 non-null    float64\n",
      " 43  num_visits_pp_mean           150 non-null    float64\n",
      " 44  planned_los_mean_mean_obs    150 non-null    float64\n",
      " 45  planned_los_mean_mean_ldr    150 non-null    float64\n",
      " 46  planned_los_mean_mean_csect  150 non-null    float64\n",
      " 47  planned_los_mean_mean_pp     150 non-null    float64\n",
      " 48  actual_los_mean_mean_obs     150 non-null    float64\n",
      " 49  actual_los_mean_mean_ldr     150 non-null    float64\n",
      " 50  actual_los_mean_mean_csect   150 non-null    float64\n",
      " 51  actual_los_mean_mean_pp      150 non-null    float64\n",
      " 52  planned_los_mean_cv2_obs     150 non-null    float64\n",
      " 53  planned_los_mean_cv2_ldr     150 non-null    float64\n",
      " 54  planned_los_mean_cv2_csect   150 non-null    float64\n",
      " 55  planned_los_mean_cv2_pp      150 non-null    float64\n",
      " 56  actual_los_mean_cv2_obs      150 non-null    float64\n",
      " 57  actual_los_mean_cv2_ldr      150 non-null    float64\n",
      " 58  actual_los_mean_cv2_csect    150 non-null    float64\n",
      " 59  actual_los_mean_cv2_pp       150 non-null    float64\n",
      " 60  occ_mean_mean_obs            150 non-null    float64\n",
      " 61  occ_mean_mean_ldr            150 non-null    float64\n",
      " 62  occ_mean_mean_csect          150 non-null    float64\n",
      " 63  occ_mean_mean_pp             150 non-null    float64\n",
      " 64  occ_mean_p95_obs             150 non-null    float64\n",
      " 65  occ_mean_p95_ldr             150 non-null    float64\n",
      " 66  occ_mean_p95_csect           150 non-null    float64\n",
      " 67  occ_mean_p95_pp              150 non-null    float64\n",
      " 68  mean_pct_waitq_ldr           150 non-null    float64\n",
      " 69  mean_waitq_ldr_mean          150 non-null    float64\n",
      " 70  mean_waitq_ldr_p95           150 non-null    float64\n",
      " 71  mean_pct_blocked_by_pp       150 non-null    float64\n",
      " 72  mean_blocked_by_pp_mean      150 non-null    float64\n",
      " 73  mean_blocked_by_pp_p95       150 non-null    float64\n",
      "dtypes: float64(59), int64(15)\n",
      "memory usage: 87.9 KB\n"
     ]
    }
   ],
   "source": [
    "obsim_mm_means_df.info()"
   ]
  },
  {
   "cell_type": "code",
   "execution_count": 71,
   "id": "e0022e31-9ed0-4a4c-b5a4-a9d13738cbc9",
   "metadata": {},
   "outputs": [],
   "source": [
    "def hyper_erlang_moment(rates, stages, probs, moment):\n",
    "    terms = [probs[i - 1] * math.factorial(stages[i - 1] + moment - 1) * ( 1 / math.factorial(stages[i - 1] - 1)) * (stages[i - 1] * rates[i - 1]) ** (-moment) \n",
    "            for i in range(1, len(rates) + 1)]\n",
    "    \n",
    "    return sum(terms)"
   ]
  },
  {
   "cell_type": "code",
   "execution_count": 77,
   "id": "7c2acea8-c9cf-47db-9d3c-add9b56c7f3a",
   "metadata": {},
   "outputs": [
    {
     "name": "stdout",
     "output_type": "stream",
     "text": [
      "     scenario  arr_rate  prob_blockedby_ldr_approx  prob_blockedby_ldr_sim  \\\n",
      "0         1.0  0.114155                   0.055086                0.051794   \n",
      "1         2.0  0.114155                   0.063771                0.064413   \n",
      "2         3.0  0.114155                   0.080531                0.086950   \n",
      "3         4.0  0.114155                   0.165820                0.163261   \n",
      "4         5.0  0.114155                   0.182374                0.181308   \n",
      "..        ...       ...                        ...                     ...   \n",
      "145     146.0  0.799087                   0.000009                0.000006   \n",
      "146     147.0  0.799087                   0.000009                0.000003   \n",
      "147     148.0  1.027397                   0.000006                0.000000   \n",
      "148     149.0  1.027397                   0.000006                0.000004   \n",
      "149     150.0  1.027397                   0.000006                0.000004   \n",
      "\n",
      "     condmeantime_blockedbyldr_approx  condmeantime_blockedbyldr_sim  \\\n",
      "0                            3.778654                       3.334622   \n",
      "1                            4.035329                       4.465882   \n",
      "2                            4.507946                       6.290030   \n",
      "3                            5.224348                       4.321107   \n",
      "4                            5.596022                       5.122632   \n",
      "..                                ...                            ...   \n",
      "145                          0.729366                       0.050032   \n",
      "146                          0.729366                       0.006303   \n",
      "147                          0.639653                       0.000000   \n",
      "148                          0.639653                       0.018089   \n",
      "149                          0.639653                       0.076608   \n",
      "\n",
      "     ldr_effmean_svctime_approx  ldr_effmean_svctime_sim  \\\n",
      "0                     11.912974                11.956362   \n",
      "1                     12.487194                12.470950   \n",
      "2                     13.475060                13.292243   \n",
      "3                     11.254823                11.502984   \n",
      "4                     11.723960                11.910698   \n",
      "..                          ...                      ...   \n",
      "145                   11.999993                12.001325   \n",
      "146                   11.999993                11.990008   \n",
      "147                   11.999996                11.988540   \n",
      "148                   11.999996                12.006090   \n",
      "149                   11.999996                11.990163   \n",
      "\n",
      "     prob_blockedby_pp_approx  prob_blockedby_pp_sim  \\\n",
      "0                2.319907e-02               0.051794   \n",
      "1                1.037940e-01               0.064413   \n",
      "2                2.001325e-01               0.086950   \n",
      "3                2.319907e-02               0.163261   \n",
      "4                1.037940e-01               0.181308   \n",
      "..                        ...                    ...   \n",
      "145              1.235314e-08               0.000006   \n",
      "146              1.933882e-09               0.000003   \n",
      "147              1.769363e-08               0.000000   \n",
      "148              2.147217e-09               0.000004   \n",
      "149              4.791773e-10               0.000004   \n",
      "\n",
      "     condmeantime_blockedbypp_approx  condmeantime_blockedbypp_sim  \n",
      "0                           6.526361                      6.409555  \n",
      "1                           8.966441                      9.101602  \n",
      "2                          11.480445                     11.307689  \n",
      "3                           6.526361                      6.174898  \n",
      "4                           8.966441                      8.511664  \n",
      "..                               ...                           ...  \n",
      "145                         1.345115                      0.000000  \n",
      "146                         1.317322                      0.000000  \n",
      "147                         1.181717                      0.000000  \n",
      "148                         1.151514                      0.000000  \n",
      "149                         1.136850                      0.000000  \n",
      "\n",
      "[150 rows x 12 columns]\n"
     ]
    }
   ],
   "source": [
    "results = []\n",
    "scenarios = range(1,151)\n",
    "\n",
    "for row in obsim_mm_means_df.iterrows():\n",
    "\n",
    "    scenario = row[1]['scenario']\n",
    "    arr_rate = row[1]['arrival_rate']\n",
    "    c_sect_prob = row[1]['c_sect_prob']\n",
    "    ldr_mean_svctime = row[1]['mean_los_ldr']\n",
    "    ldr_cv2_svctime = 1 / row[1]['num_erlang_stages_ldr']\n",
    "    ldr_cap = row[1]['cap_ldr']\n",
    "    pp_mean_svctime = c_sect_prob * row[1]['mean_los_pp_c'] + (1 - c_sect_prob) * row[1]['mean_los_pp_noc']\n",
    "    \n",
    "    rates = [1 / row[1]['mean_los_pp_c'], 1 / row[1]['mean_los_pp_noc']]\n",
    "    probs = [c_sect_prob, 1 - c_sect_prob]\n",
    "    stages = [int(row[1]['num_erlang_stages_pp']), int(row[1]['num_erlang_stages_pp'])]\n",
    "    moments = [hyper_erlang_moment(rates, stages, probs, moment) for moment in [1, 2]]\n",
    "    variance = moments[1] - moments[0] ** 2\n",
    "    cv2 = variance / moments[0] ** 2\n",
    "    \n",
    "    pp_cv2_svctime = cv2\n",
    "    \n",
    "    pp_cap = row[1]['cap_pp']\n",
    "    sim_mean_waitq_ldr_mean = row[1]['mean_waitq_ldr_mean']\n",
    "    sim_mean_pct_waitq_ldr = row[1]['mean_pct_waitq_ldr']\n",
    "    sim_actual_los_mean_mean_ldr = row[1]['actual_los_mean_mean_ldr']\n",
    "    sim_mean_pct_blocked_by_pp = row[1]['mean_pct_blocked_by_pp']\n",
    "    sim_mean_blocked_by_pp_mean = row[1]['mean_blocked_by_pp_mean']\n",
    "\n",
    "    ldr_pct_blockedby_pp = obnetwork2.ldr_prob_blockedby_pp_hat(arr_rate, pp_mean_svctime, pp_cap, pp_cv2_svctime)\n",
    "    ldr_meantime_blockedby_pp = obnetwork2.ldr_condmeantime_blockedby_pp_hat(arr_rate, pp_mean_svctime, pp_cap, pp_cv2_svctime)\n",
    "    (obs_meantime_blockedbyldr, ldr_effmean_svctime, obs_prob_blockedby_ldr, obs_condmeantime_blockedbyldr) = \\\n",
    "        obnetwork2.obs_blockedby_ldr_hats(arr_rate, c_sect_prob, ldr_mean_svctime, ldr_cv2_svctime, ldr_cap,\n",
    "                               pp_mean_svctime, pp_cv2_svctime, pp_cap)\n",
    "\n",
    "    scen_results = {'scenario': scenario,\n",
    "                    'arr_rate': arr_rate,\n",
    "                    'prob_blockedby_ldr_approx': obs_prob_blockedby_ldr,\n",
    "                    'prob_blockedby_ldr_sim': sim_mean_pct_waitq_ldr,\n",
    "\n",
    "                    'condmeantime_blockedbyldr_approx': obs_condmeantime_blockedbyldr,\n",
    "                    'condmeantime_blockedbyldr_sim': sim_mean_waitq_ldr_mean,\n",
    "                    'ldr_effmean_svctime_approx': ldr_effmean_svctime,\n",
    "                    'ldr_effmean_svctime_sim': sim_actual_los_mean_mean_ldr,\n",
    "                    'prob_blockedby_pp_approx': ldr_pct_blockedby_pp,\n",
    "                    'prob_blockedby_pp_sim': sim_mean_pct_blocked_by_pp,\n",
    "                    'condmeantime_blockedbypp_approx': ldr_meantime_blockedby_pp,\n",
    "                    'condmeantime_blockedbypp_sim': sim_mean_blocked_by_pp_mean}\n",
    "\n",
    "    results.append(scen_results)\n",
    "\n",
    "    # print(\"scenario {}\\n\".format(scenario))\n",
    "    # print(results)\n",
    "\n",
    "\n",
    "results_df = pd.DataFrame(results)\n",
    "print(results_df)\n",
    "\n",
    "#results_df.to_csv(\"obnetwork_approx_vs_sim.csv\")\n",
    "results_df.to_csv(\"./output/obnetwork_approx_vs_sim_testing.csv\")"
   ]
  },
  {
   "cell_type": "code",
   "execution_count": 67,
   "id": "b7997abe-0761-4196-8197-b2be5fb676fa",
   "metadata": {},
   "outputs": [],
   "source": [
    "means = [48, 72]\n",
    "rates = [1 / mean for mean in means]\n",
    "probs = [0.8, 0.2]\n",
    "stages = [8, 8]\n",
    "moment = 1"
   ]
  },
  {
   "cell_type": "code",
   "execution_count": 68,
   "id": "24a98076-7ce5-4b88-8122-d765e1d96d4a",
   "metadata": {},
   "outputs": [
    {
     "name": "stdout",
     "output_type": "stream",
     "text": [
      "[38.400000000000006, 14.4]\n"
     ]
    },
    {
     "data": {
      "text/plain": [
       "52.800000000000004"
      ]
     },
     "execution_count": 68,
     "metadata": {},
     "output_type": "execute_result"
    }
   ],
   "source": [
    "hyper_erlang_moment(rates, stages, probs, moment)"
   ]
  },
  {
   "cell_type": "code",
   "execution_count": 73,
   "id": "bc3ecc95-f793-4079-8571-fdedc5b669c6",
   "metadata": {},
   "outputs": [],
   "source": [
    "moments = [hyper_erlang_moment(rates, stages, probs, moment) for moment in [1, 2]]"
   ]
  },
  {
   "cell_type": "code",
   "execution_count": 74,
   "id": "74e79856-a1ce-42fc-9508-cdb20fcc5d39",
   "metadata": {},
   "outputs": [
    {
     "data": {
      "text/plain": [
       "452.1600000000003"
      ]
     },
     "execution_count": 74,
     "metadata": {},
     "output_type": "execute_result"
    }
   ],
   "source": [
    "variance = moments[1] - moments[0] ** 2\n",
    "variance"
   ]
  },
  {
   "cell_type": "code",
   "execution_count": 75,
   "id": "193cb54b-1c90-4b9f-a854-10eaaeeb5960",
   "metadata": {},
   "outputs": [
    {
     "data": {
      "text/plain": [
       "0.16219008264462817"
      ]
     },
     "execution_count": 75,
     "metadata": {},
     "output_type": "execute_result"
    }
   ],
   "source": [
    "cv2 = variance / moments[0] ** 2\n",
    "cv2"
   ]
  },
  {
   "cell_type": "code",
   "execution_count": 63,
   "id": "333ecc17-51e7-42fd-a345-f96a5a6cf79a",
   "metadata": {},
   "outputs": [],
   "source": [
    "def sumproduct(*lists):  return sum(map(operator.mul, *lists))"
   ]
  },
  {
   "cell_type": "code",
   "execution_count": 69,
   "id": "a519b4af-2de2-442f-969a-3bd656141fee",
   "metadata": {},
   "outputs": [
    {
     "data": {
      "text/plain": [
       "52.800000000000004"
      ]
     },
     "execution_count": 69,
     "metadata": {},
     "output_type": "execute_result"
    }
   ],
   "source": [
    "sumproduct(means, probs)"
   ]
  },
  {
   "cell_type": "code",
   "execution_count": 47,
   "id": "8b0b3f37-d63a-4a01-8a78-4aaa425716f3",
   "metadata": {},
   "outputs": [
    {
     "data": {
      "text/plain": [
       "24"
      ]
     },
     "execution_count": 47,
     "metadata": {},
     "output_type": "execute_result"
    }
   ],
   "source": [
    "math.factorial(4)"
   ]
  },
  {
   "cell_type": "code",
   "execution_count": 48,
   "id": "83016d45-062d-4d59-987c-3c540efafd5f",
   "metadata": {},
   "outputs": [
    {
     "data": {
      "text/plain": [
       "-2"
      ]
     },
     "execution_count": 48,
     "metadata": {},
     "output_type": "execute_result"
    }
   ],
   "source": [
    "-2"
   ]
  },
  {
   "cell_type": "code",
   "execution_count": 49,
   "id": "9b2913ed-a471-4284-9fa5-386cd4ac5dda",
   "metadata": {},
   "outputs": [
    {
     "data": {
      "text/plain": [
       "-3"
      ]
     },
     "execution_count": 49,
     "metadata": {},
     "output_type": "execute_result"
    }
   ],
   "source": [
    "x = 3\n",
    "-x"
   ]
  }
 ],
 "metadata": {
  "kernelspec": {
   "display_name": "Python 3",
   "language": "python",
   "name": "python3"
  },
  "language_info": {
   "codemirror_mode": {
    "name": "ipython",
    "version": 3
   },
   "file_extension": ".py",
   "mimetype": "text/x-python",
   "name": "python",
   "nbconvert_exporter": "python",
   "pygments_lexer": "ipython3",
   "version": "3.8.8"
  }
 },
 "nbformat": 4,
 "nbformat_minor": 5
}
